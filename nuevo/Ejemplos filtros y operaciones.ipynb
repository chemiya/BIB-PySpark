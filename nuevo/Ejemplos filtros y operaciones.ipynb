{
  "cells": [
    {
      "cell_type": "code",
      "execution_count": 10,
      "metadata": {
        "id": "8LkT7SRFZ98_"
      },
      "outputs": [],
      "source": [
        "from pyspark.sql import SparkSession\n",
        "from pyspark import SparkContext\n",
        "\n",
        "SpSession = SparkSession .builder.appName(\"Demo Spark\").getOrCreate()"
      ]
    },
    {
      "cell_type": "code",
      "execution_count": 11,
      "metadata": {
        "colab": {
          "base_uri": "https://localhost:8080/"
        },
        "id": "UHBTj4TpcC08",
        "outputId": "0a12bee8-12a0-4b68-ad4b-e5894c16688a"
      },
      "outputs": [
        {
          "name": "stdout",
          "output_type": "stream",
          "text": [
            "+--------------------+------+---------+------------+----------+------+------------+-----+------+\n",
            "|                 Car|   MPG|Cylinders|Displacement|Horsepower|Weight|Acceleration|Model|Origin|\n",
            "+--------------------+------+---------+------------+----------+------+------------+-----+------+\n",
            "|              STRING|DOUBLE|      INT|      DOUBLE|    DOUBLE|DOUBLE|      DOUBLE|  INT|   CAT|\n",
            "|Chevrolet Chevell...|  18.0|        8|       307.0|     130.0| 3504.|        12.0|   70|    US|\n",
            "|   Buick Skylark 320|  15.0|        8|       350.0|     165.0| 3693.|        11.5|   70|    US|\n",
            "|  Plymouth Satellite|  18.0|        8|       318.0|     150.0| 3436.|        11.0|   70|    US|\n",
            "|       AMC Rebel SST|  16.0|        8|       304.0|     150.0| 3433.|        12.0|   70|    US|\n",
            "+--------------------+------+---------+------------+----------+------+------------+-----+------+\n",
            "only showing top 5 rows\n",
            "\n"
          ]
        }
      ],
      "source": [
        "#con separador ;\n",
        "data = SpSession.read.csv('cars.csv', header=True, sep=\";\")\n",
        "data.show(5)"
      ]
    },
    {
      "cell_type": "code",
      "execution_count": 12,
      "metadata": {
        "colab": {
          "base_uri": "https://localhost:8080/"
        },
        "id": "pIzoHePYcC_h",
        "outputId": "a1c4c671-622b-475e-eeb2-e1b5e8d8865f"
      },
      "outputs": [
        {
          "name": "stdout",
          "output_type": "stream",
          "text": [
            "root\n",
            " |-- Car: string (nullable = true)\n",
            " |-- MPG: string (nullable = true)\n",
            " |-- Cylinders: string (nullable = true)\n",
            " |-- Displacement: string (nullable = true)\n",
            " |-- Horsepower: string (nullable = true)\n",
            " |-- Weight: string (nullable = true)\n",
            " |-- Acceleration: string (nullable = true)\n",
            " |-- Model: string (nullable = true)\n",
            " |-- Origin: string (nullable = true)\n",
            "\n"
          ]
        }
      ],
      "source": [
        "data.printSchema()"
      ]
    },
    {
      "cell_type": "code",
      "execution_count": 13,
      "metadata": {
        "colab": {
          "base_uri": "https://localhost:8080/"
        },
        "id": "cg_HxvpWcyG0",
        "outputId": "129133af-ab77-48ba-96c4-6216d2faca3c"
      },
      "outputs": [
        {
          "data": {
            "text/plain": [
              "['Car',\n",
              " 'MPG',\n",
              " 'Cylinders',\n",
              " 'Displacement',\n",
              " 'Horsepower',\n",
              " 'Weight',\n",
              " 'Acceleration',\n",
              " 'Model',\n",
              " 'Origin']"
            ]
          },
          "execution_count": 13,
          "metadata": {},
          "output_type": "execute_result"
        }
      ],
      "source": [
        "data.columns"
      ]
    },
    {
      "cell_type": "code",
      "execution_count": 14,
      "metadata": {
        "colab": {
          "base_uri": "https://localhost:8080/"
        },
        "id": "Vk2Ylax2c37Q",
        "outputId": "0acff153-84bc-47c2-b682-d7ebf5c08014"
      },
      "outputs": [
        {
          "data": {
            "text/plain": [
              "[('Car', 'string'),\n",
              " ('MPG', 'string'),\n",
              " ('Cylinders', 'string'),\n",
              " ('Displacement', 'string'),\n",
              " ('Horsepower', 'string'),\n",
              " ('Weight', 'string'),\n",
              " ('Acceleration', 'string'),\n",
              " ('Model', 'string'),\n",
              " ('Origin', 'string')]"
            ]
          },
          "execution_count": 14,
          "metadata": {},
          "output_type": "execute_result"
        }
      ],
      "source": [
        "data.dtypes"
      ]
    },
    {
      "cell_type": "code",
      "execution_count": 7,
      "metadata": {
        "colab": {
          "base_uri": "https://localhost:8080/"
        },
        "id": "dTmytaoydCJl",
        "outputId": "b1e183fc-0269-4a4d-9e0c-5363948a9051"
      },
      "outputs": [
        {
          "name": "stdout",
          "output_type": "stream",
          "text": [
            "+--------------------------------+\n",
            "|Car                             |\n",
            "+--------------------------------+\n",
            "|STRING                          |\n",
            "|Chevrolet Chevelle Malibu       |\n",
            "|Buick Skylark 320               |\n",
            "|Plymouth Satellite              |\n",
            "|AMC Rebel SST                   |\n",
            "|Ford Torino                     |\n",
            "|Ford Galaxie 500                |\n",
            "|Chevrolet Impala                |\n",
            "|Plymouth Fury iii               |\n",
            "|Pontiac Catalina                |\n",
            "|AMC Ambassador DPL              |\n",
            "|Citroen DS-21 Pallas            |\n",
            "|Chevrolet Chevelle Concours (sw)|\n",
            "|Ford Torino (sw)                |\n",
            "|Plymouth Satellite (sw)         |\n",
            "|AMC Rebel SST (sw)              |\n",
            "|Dodge Challenger SE             |\n",
            "|Plymouth 'Cuda 340              |\n",
            "|Ford Mustang Boss 302           |\n",
            "|Chevrolet Monte Carlo           |\n",
            "+--------------------------------+\n",
            "only showing top 20 rows\n",
            "\n"
          ]
        }
      ],
      "source": [
        "from os import truncate\n",
        "#seleccionar columna\n",
        "data.select(data.Car).show(truncate=False)"
      ]
    },
    {
      "cell_type": "code",
      "execution_count": 8,
      "metadata": {
        "colab": {
          "base_uri": "https://localhost:8080/"
        },
        "id": "oD4_jFEPd_0G",
        "outputId": "bdeb2c55-aef1-4c85-c443-d4ad36a30892"
      },
      "outputs": [
        {
          "name": "stdout",
          "output_type": "stream",
          "text": [
            "+--------------------------------+\n",
            "|car                             |\n",
            "+--------------------------------+\n",
            "|STRING                          |\n",
            "|Chevrolet Chevelle Malibu       |\n",
            "|Buick Skylark 320               |\n",
            "|Plymouth Satellite              |\n",
            "|AMC Rebel SST                   |\n",
            "|Ford Torino                     |\n",
            "|Ford Galaxie 500                |\n",
            "|Chevrolet Impala                |\n",
            "|Plymouth Fury iii               |\n",
            "|Pontiac Catalina                |\n",
            "|AMC Ambassador DPL              |\n",
            "|Citroen DS-21 Pallas            |\n",
            "|Chevrolet Chevelle Concours (sw)|\n",
            "|Ford Torino (sw)                |\n",
            "|Plymouth Satellite (sw)         |\n",
            "|AMC Rebel SST (sw)              |\n",
            "|Dodge Challenger SE             |\n",
            "|Plymouth 'Cuda 340              |\n",
            "|Ford Mustang Boss 302           |\n",
            "|Chevrolet Monte Carlo           |\n",
            "+--------------------------------+\n",
            "only showing top 20 rows\n",
            "\n"
          ]
        }
      ],
      "source": [
        "#otra forma\n",
        "data.select(data['car']).show(truncate=False)"
      ]
    },
    {
      "cell_type": "code",
      "execution_count": 9,
      "metadata": {
        "colab": {
          "base_uri": "https://localhost:8080/"
        },
        "id": "DTqkuKq6eRKx",
        "outputId": "406cf791-2c86-4aad-f12f-51c396c80706"
      },
      "outputs": [
        {
          "name": "stdout",
          "output_type": "stream",
          "text": [
            "+--------------------------------+\n",
            "|car                             |\n",
            "+--------------------------------+\n",
            "|STRING                          |\n",
            "|Chevrolet Chevelle Malibu       |\n",
            "|Buick Skylark 320               |\n",
            "|Plymouth Satellite              |\n",
            "|AMC Rebel SST                   |\n",
            "|Ford Torino                     |\n",
            "|Ford Galaxie 500                |\n",
            "|Chevrolet Impala                |\n",
            "|Plymouth Fury iii               |\n",
            "|Pontiac Catalina                |\n",
            "|AMC Ambassador DPL              |\n",
            "|Citroen DS-21 Pallas            |\n",
            "|Chevrolet Chevelle Concours (sw)|\n",
            "|Ford Torino (sw)                |\n",
            "|Plymouth Satellite (sw)         |\n",
            "|AMC Rebel SST (sw)              |\n",
            "|Dodge Challenger SE             |\n",
            "|Plymouth 'Cuda 340              |\n",
            "|Ford Mustang Boss 302           |\n",
            "|Chevrolet Monte Carlo           |\n",
            "+--------------------------------+\n",
            "only showing top 20 rows\n",
            "\n"
          ]
        }
      ],
      "source": [
        "#otra forma\n",
        "from pyspark.sql.functions import col\n",
        "data.select(col('car')).show(truncate=False)"
      ]
    },
    {
      "cell_type": "code",
      "execution_count": 24,
      "metadata": {
        "colab": {
          "base_uri": "https://localhost:8080/"
        },
        "id": "d9ftOUkLeoOY",
        "outputId": "ded4f8da-445e-4dd4-8f78-9d7f7065e7c5"
      },
      "outputs": [
        {
          "name": "stdout",
          "output_type": "stream",
          "text": [
            "+--------------------------------+---------+\n",
            "|Car                             |Cylinders|\n",
            "+--------------------------------+---------+\n",
            "|Chevrolet Chevelle Malibu       |8        |\n",
            "|Buick Skylark 320               |8        |\n",
            "|Plymouth Satellite              |8        |\n",
            "|AMC Rebel SST                   |8        |\n",
            "|Ford Torino                     |8        |\n",
            "|Ford Galaxie 500                |8        |\n",
            "|Chevrolet Impala                |8        |\n",
            "|Plymouth Fury iii               |8        |\n",
            "|Pontiac Catalina                |8        |\n",
            "|AMC Ambassador DPL              |8        |\n",
            "|Citroen DS-21 Pallas            |4        |\n",
            "|Chevrolet Chevelle Concours (sw)|8        |\n",
            "|Ford Torino (sw)                |8        |\n",
            "|Plymouth Satellite (sw)         |8        |\n",
            "|AMC Rebel SST (sw)              |8        |\n",
            "|Dodge Challenger SE             |8        |\n",
            "|Plymouth 'Cuda 340              |8        |\n",
            "|Ford Mustang Boss 302           |8        |\n",
            "|Chevrolet Monte Carlo           |8        |\n",
            "|Buick Estate Wagon (sw)         |8        |\n",
            "+--------------------------------+---------+\n",
            "only showing top 20 rows\n",
            "\n"
          ]
        }
      ],
      "source": [
        "#seleccionar multiples columnas\n",
        "data.select(data.Car, data.Cylinders).show(truncate=False)"
      ]
    },
    {
      "cell_type": "code",
      "execution_count": 25,
      "metadata": {
        "colab": {
          "base_uri": "https://localhost:8080/"
        },
        "id": "C8V4KbSpfVA5",
        "outputId": "b4ce8d93-84eb-49f3-e7d1-994fe0f4a1b3"
      },
      "outputs": [
        {
          "name": "stdout",
          "output_type": "stream",
          "text": [
            "+--------------------------------+---------+\n",
            "|car                             |cylinders|\n",
            "+--------------------------------+---------+\n",
            "|Chevrolet Chevelle Malibu       |8        |\n",
            "|Buick Skylark 320               |8        |\n",
            "|Plymouth Satellite              |8        |\n",
            "|AMC Rebel SST                   |8        |\n",
            "|Ford Torino                     |8        |\n",
            "|Ford Galaxie 500                |8        |\n",
            "|Chevrolet Impala                |8        |\n",
            "|Plymouth Fury iii               |8        |\n",
            "|Pontiac Catalina                |8        |\n",
            "|AMC Ambassador DPL              |8        |\n",
            "|Citroen DS-21 Pallas            |4        |\n",
            "|Chevrolet Chevelle Concours (sw)|8        |\n",
            "|Ford Torino (sw)                |8        |\n",
            "|Plymouth Satellite (sw)         |8        |\n",
            "|AMC Rebel SST (sw)              |8        |\n",
            "|Dodge Challenger SE             |8        |\n",
            "|Plymouth 'Cuda 340              |8        |\n",
            "|Ford Mustang Boss 302           |8        |\n",
            "|Chevrolet Monte Carlo           |8        |\n",
            "|Buick Estate Wagon (sw)         |8        |\n",
            "+--------------------------------+---------+\n",
            "only showing top 20 rows\n",
            "\n"
          ]
        }
      ],
      "source": [
        "#otra forma\n",
        "data.select(data['car'], data['cylinders']).show(truncate=False)"
      ]
    },
    {
      "cell_type": "code",
      "execution_count": 29,
      "metadata": {
        "colab": {
          "base_uri": "https://localhost:8080/"
        },
        "id": "r25OjSXifjOT",
        "outputId": "75218165-7108-457d-f985-527f82f7e63f"
      },
      "outputs": [
        {
          "name": "stdout",
          "output_type": "stream",
          "text": [
            "+--------------------------------+---------+\n",
            "|CAR                             |CYLINDERS|\n",
            "+--------------------------------+---------+\n",
            "|Chevrolet Chevelle Malibu       |8        |\n",
            "|Buick Skylark 320               |8        |\n",
            "|Plymouth Satellite              |8        |\n",
            "|AMC Rebel SST                   |8        |\n",
            "|Ford Torino                     |8        |\n",
            "|Ford Galaxie 500                |8        |\n",
            "|Chevrolet Impala                |8        |\n",
            "|Plymouth Fury iii               |8        |\n",
            "|Pontiac Catalina                |8        |\n",
            "|AMC Ambassador DPL              |8        |\n",
            "|Citroen DS-21 Pallas            |4        |\n",
            "|Chevrolet Chevelle Concours (sw)|8        |\n",
            "|Ford Torino (sw)                |8        |\n",
            "|Plymouth Satellite (sw)         |8        |\n",
            "|AMC Rebel SST (sw)              |8        |\n",
            "|Dodge Challenger SE             |8        |\n",
            "|Plymouth 'Cuda 340              |8        |\n",
            "|Ford Mustang Boss 302           |8        |\n",
            "|Chevrolet Monte Carlo           |8        |\n",
            "|Buick Estate Wagon (sw)         |8        |\n",
            "+--------------------------------+---------+\n",
            "only showing top 20 rows\n",
            "\n"
          ]
        }
      ],
      "source": [
        "#otra forma\n",
        "from pyspark.sql.functions import col\n",
        "data.select(col('CAR'), col('CYLINDERS')).show(truncate=False)"
      ]
    },
    {
      "cell_type": "code",
      "execution_count": 15,
      "metadata": {
        "colab": {
          "base_uri": "https://localhost:8080/"
        },
        "id": "enzd7ibwhN1i",
        "outputId": "cb0cdc9f-f2cc-4951-d9e0-ee0410781fee"
      },
      "outputs": [
        {
          "name": "stdout",
          "output_type": "stream",
          "text": [
            "+----------+-----+\n",
            "|Horsepower|count|\n",
            "+----------+-----+\n",
            "|     102.0|    1|\n",
            "|     68.00|    6|\n",
            "|     116.0|    1|\n",
            "|     145.0|    7|\n",
            "|     90.00|   20|\n",
            "+----------+-----+\n",
            "only showing top 5 rows\n",
            "\n"
          ]
        }
      ],
      "source": [
        "data.groupBy('Horsepower').count().show(5)"
      ]
    },
    {
      "cell_type": "code",
      "execution_count": 17,
      "metadata": {
        "colab": {
          "base_uri": "https://localhost:8080/"
        },
        "id": "bT5AxYG6hmBS",
        "outputId": "10aef53b-aeac-423b-c660-05cf79799255"
      },
      "outputs": [
        {
          "name": "stdout",
          "output_type": "stream",
          "text": [
            "+------+-----+-----+\n",
            "|Origin|Model|count|\n",
            "+------+-----+-----+\n",
            "| Japan|   76|    4|\n",
            "|    US|   81|   13|\n",
            "|    US|   80|    7|\n",
            "|    US|   76|   22|\n",
            "| Japan|   70|    2|\n",
            "|    US|   78|   22|\n",
            "|Europe|   76|    8|\n",
            "|    US|   70|   27|\n",
            "| Japan|   75|    4|\n",
            "|Europe|   80|    9|\n",
            "| Japan|   77|    6|\n",
            "|Europe|   72|    5|\n",
            "|    US|   75|   20|\n",
            "|    US|   79|   23|\n",
            "|    US|   82|   20|\n",
            "|   CAT|  INT|    1|\n",
            "|Europe|   75|    6|\n",
            "| Japan|   78|    8|\n",
            "|    US|   71|   20|\n",
            "| Japan|   82|    9|\n",
            "+------+-----+-----+\n",
            "only showing top 20 rows\n",
            "\n"
          ]
        }
      ],
      "source": [
        "data.groupBy('Origin','Model').count().show()"
      ]
    },
    {
      "cell_type": "code",
      "execution_count": 19,
      "metadata": {
        "colab": {
          "base_uri": "https://localhost:8080/"
        },
        "id": "3IwxIYxjianP",
        "outputId": "f5dba456-0a18-4b7f-f363-ffcb464ede63"
      },
      "outputs": [
        {
          "name": "stdout",
          "output_type": "stream",
          "text": [
            "Total de registros: 407\n",
            "El DataFrame tiene 407 filas y 9 columnas.\n"
          ]
        }
      ],
      "source": [
        "#cuenta filas\n",
        "num_fils = data.count()\n",
        "print(\"Total de registros:\", num_fils)\n",
        "\n",
        "#columnas\n",
        "num_cols = len(data.columns)\n",
        "\n",
        "#imprimir con formato\n",
        "print(\"El DataFrame tiene {} filas y {} columnas.\".format(num_fils, num_cols))\n"
      ]
    },
    {
      "cell_type": "code",
      "execution_count": 20,
      "metadata": {},
      "outputs": [
        {
          "name": "stdout",
          "output_type": "stream",
          "text": [
            "Total de registros en US: 254\n"
          ]
        }
      ],
      "source": [
        "#contar con filtro\n",
        "europa= data.filter(col('Origin')==\"US\").count()\n",
        "print(\"Total de registros en US:\", europa)"
      ]
    },
    {
      "cell_type": "code",
      "execution_count": 21,
      "metadata": {
        "colab": {
          "base_uri": "https://localhost:8080/"
        },
        "id": "-A2hpqUzjWPY",
        "outputId": "6af09fb9-2f46-43cc-b87e-ef1d48db53a3"
      },
      "outputs": [
        {
          "name": "stdout",
          "output_type": "stream",
          "text": [
            "Total de registros: 7\n",
            "+-------------------------+----+---------+------------+----------+------+------------+-----+------+\n",
            "|Car                      |MPG |Cylinders|Displacement|Horsepower|Weight|Acceleration|Model|Origin|\n",
            "+-------------------------+----+---------+------------+----------+------+------------+-----+------+\n",
            "|Plymouth Satellite (sw)  |0   |8        |383.0       |175.0     |4166. |10.5        |70   |US    |\n",
            "|AMC Rebel SST (sw)       |0   |8        |360.0       |175.0     |3850. |11.0        |70   |US    |\n",
            "|Pontiac Catalina Brougham|14.0|8        |400.0       |175.0     |4464. |11.5        |71   |US    |\n",
            "|Pontiac Safari (sw)      |13.0|8        |400.0       |175.0     |5140. |12.0        |71   |US    |\n",
            "|Pontiac Catalina         |14.0|8        |400.0       |175.0     |4385. |12.0        |72   |US    |\n",
            "|Buick Century 350        |13.0|8        |350.0       |175.0     |4100. |13.0        |73   |US    |\n",
            "|AMC Ambassador Brougham  |13.0|8        |360.0       |175.0     |3821. |11.0        |73   |US    |\n",
            "+-------------------------+----+---------+------------+----------+------+------------+-----+------+\n",
            "\n"
          ]
        }
      ],
      "source": [
        "#contar filtrados\n",
        "usa= data.filter((col('Origin')==\"US\")&(col('Horsepower')==\"175.0\")).count()\n",
        "print(\"Total de registros:\", usa)\n",
        "\n",
        "#guardar dataframe\n",
        "filtrado=data.filter((col('Origin')==\"US\")&(col('Horsepower')==\"175.0\")).show(truncate=False)\n",
        "filtrado\n"
      ]
    },
    {
      "cell_type": "code",
      "execution_count": 64,
      "metadata": {
        "colab": {
          "base_uri": "https://localhost:8080/"
        },
        "id": "jiN_IY4Um5K3",
        "outputId": "bf5a2821-6c65-4517-93c2-aa76e032c2e1"
      },
      "outputs": [
        {
          "name": "stdout",
          "output_type": "stream",
          "text": [
            "+-------------------------+----+---------+------------+----------+------+------------+-----+------+\n",
            "|Car                      |MPG |Cylinders|Displacement|Horsepower|Weight|Acceleration|Model|Origin|\n",
            "+-------------------------+----+---------+------------+----------+------+------------+-----+------+\n",
            "|Plymouth 'Cuda 340       |14.0|8        |340.0       |160.0     |3609. |8.0         |70   |US    |\n",
            "|Pontiac Safari (sw)      |13.0|8        |400.0       |175.0     |5140. |12.0        |71   |US    |\n",
            "|Ford Mustang Boss 302    |0   |8        |302.0       |140.0     |3353. |8.0         |70   |US    |\n",
            "|Buick Skylark 320        |15.0|8        |350.0       |165.0     |3693. |11.5        |70   |US    |\n",
            "|Chevrolet Monte Carlo    |15.0|8        |400.0       |150.0     |3761. |9.5         |70   |US    |\n",
            "|AMC Rebel SST            |16.0|8        |304.0       |150.0     |3433. |12.0        |70   |US    |\n",
            "|Buick Estate Wagon (sw)  |14.0|8        |455.0       |225.0     |3086. |10.0        |70   |US    |\n",
            "|Ford Galaxie 500         |15.0|8        |429.0       |198.0     |4341. |10.0        |70   |US    |\n",
            "|Ford F250                |10.0|8        |360.0       |215.0     |4615. |14.0        |70   |US    |\n",
            "|Plymouth Fury iii        |14.0|8        |440.0       |215.0     |4312. |8.5         |70   |US    |\n",
            "|Chevy C20                |10.0|8        |307.0       |200.0     |4376. |15.0        |70   |US    |\n",
            "|AMC Ambassador DPL       |15.0|8        |390.0       |190.0     |3850. |8.5         |70   |US    |\n",
            "|Dodge D200               |11.0|8        |318.0       |210.0     |4382. |13.5        |70   |US    |\n",
            "|Ford Torino (sw)         |0   |8        |351.0       |153.0     |4034. |11.0        |70   |US    |\n",
            "|Hi 1200D                 |9.0 |8        |304.0       |193.0     |4732. |18.5        |70   |US    |\n",
            "|AMC Rebel SST (sw)       |0   |8        |360.0       |175.0     |3850. |11.0        |70   |US    |\n",
            "|Chevrolet Impala         |14.0|8        |350.0       |165.0     |4209. |12.0        |71   |US    |\n",
            "|Chevrolet Chevelle Malibu|18.0|8        |307.0       |130.0     |3504. |12.0        |70   |US    |\n",
            "|Pontiac Catalina Brougham|14.0|8        |400.0       |175.0     |4464. |11.5        |71   |US    |\n",
            "|Ford Torino              |17.0|8        |302.0       |140.0     |3449. |10.5        |70   |US    |\n",
            "+-------------------------+----+---------+------------+----------+------+------------+-----+------+\n",
            "only showing top 20 rows\n",
            "\n"
          ]
        }
      ],
      "source": [
        "#ascending se puede quitar\n",
        "data.orderBy('Cylinders',ascending=False).show(truncate=False)"
      ]
    },
    {
      "cell_type": "code",
      "execution_count": 24,
      "metadata": {
        "colab": {
          "base_uri": "https://localhost:8080/"
        },
        "id": "WVQMA1oFm_yT",
        "outputId": "b1016560-279e-46a8-ad4a-d1213972ebad"
      },
      "outputs": [
        {
          "name": "stdout",
          "output_type": "stream",
          "text": [
            "+------+-----+\n",
            "|Origin|count|\n",
            "+------+-----+\n",
            "|    US|  254|\n",
            "| Japan|   79|\n",
            "|Europe|   73|\n",
            "|   CAT|    1|\n",
            "+------+-----+\n",
            "\n"
          ]
        }
      ],
      "source": [
        "#ordenar group by resultado\n",
        "data.groupBy('Origin').count().orderBy('count', ascending=False).show()"
      ]
    }
  ],
  "metadata": {
    "colab": {
      "provenance": []
    },
    "kernelspec": {
      "display_name": "Python 3",
      "name": "python3"
    },
    "language_info": {
      "codemirror_mode": {
        "name": "ipython",
        "version": 3
      },
      "file_extension": ".py",
      "mimetype": "text/x-python",
      "name": "python",
      "nbconvert_exporter": "python",
      "pygments_lexer": "ipython3",
      "version": "3.11.2"
    }
  },
  "nbformat": 4,
  "nbformat_minor": 0
}
